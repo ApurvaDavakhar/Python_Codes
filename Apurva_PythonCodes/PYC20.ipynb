{
 "cells": [
  {
   "cell_type": "code",
   "execution_count": 2,
   "id": "805330f3-02ec-40ed-b293-2fa4edccaaa5",
   "metadata": {},
   "outputs": [
    {
     "name": "stdout",
     "output_type": "stream",
     "text": [
      "Hamster is looser in M3\n"
     ]
    }
   ],
   "source": [
    "print(\"Hamster is looser in M3\")"
   ]
  },
  {
   "cell_type": "code",
   "execution_count": null,
   "id": "2e7e9686-d7e3-48c9-a7ad-ed2bc8d08210",
   "metadata": {},
   "outputs": [],
   "source": []
  }
 ],
 "metadata": {
  "kernelspec": {
   "display_name": "Python 3 (ipykernel)",
   "language": "python",
   "name": "python3"
  },
  "language_info": {
   "codemirror_mode": {
    "name": "ipython",
    "version": 3
   },
   "file_extension": ".py",
   "mimetype": "text/x-python",
   "name": "python",
   "nbconvert_exporter": "python",
   "pygments_lexer": "ipython3",
   "version": "3.12.4"
  }
 },
 "nbformat": 4,
 "nbformat_minor": 5
}
