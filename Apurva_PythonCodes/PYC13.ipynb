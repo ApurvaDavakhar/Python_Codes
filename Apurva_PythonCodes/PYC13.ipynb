{
 "cells": [
  {
   "cell_type": "code",
   "execution_count": 4,
   "id": "2bdeb340-86d6-4275-ad13-ebbb0a8fe0f2",
   "metadata": {},
   "outputs": [
    {
     "data": {
      "text/plain": [
       "False"
      ]
     },
     "execution_count": 4,
     "metadata": {},
     "output_type": "execute_result"
    }
   ],
   "source": [
    "#Relation operator\n",
    "#Double eqaul operator\n",
    "#' = ' is an assignment operator; it is used to assign value to a variable on the left.\n",
    "#'==' is a relational operator; it is used for comparision of equality \n",
    "\n",
    "10 == 5 #equal operator"
   ]
  },
  {
   "cell_type": "code",
   "execution_count": 6,
   "id": "884cae82-4e20-4975-914b-11baba49757f",
   "metadata": {},
   "outputs": [
    {
     "data": {
      "text/plain": [
       "True"
      ]
     },
     "execution_count": 6,
     "metadata": {},
     "output_type": "execute_result"
    }
   ],
   "source": [
    "10 != 5 #not equal operator "
   ]
  },
  {
   "cell_type": "code",
   "execution_count": 21,
   "id": "7c065cb8-8845-449f-83e0-1b5afad04dd5",
   "metadata": {},
   "outputs": [
    {
     "data": {
      "text/plain": [
       "False"
      ]
     },
     "execution_count": 21,
     "metadata": {},
     "output_type": "execute_result"
    }
   ],
   "source": [
    "10 > 5 #greator operator\n",
    "10 < 5 #less then\n",
    "10 <= 5 # greater than equal to\n",
    "10 >= 52 #less than"
   ]
  },
  {
   "cell_type": "code",
   "execution_count": 23,
   "id": "9247b12c-5fdd-444e-ade4-194350ef64c8",
   "metadata": {},
   "outputs": [
    {
     "name": "stdout",
     "output_type": "stream",
     "text": [
      "45 is less than 99\n"
     ]
    }
   ],
   "source": [
    "x = 45 #Decision making\n",
    "\n",
    "if x < 99:\n",
    "    print(x, \"is less than 99\")\n",
    "else:\n",
    "    print(x, \"is more than 99\")"
   ]
  },
  {
   "cell_type": "code",
   "execution_count": 25,
   "id": "1f6ad33f-550c-4ab3-a0b7-10b6fa2682ef",
   "metadata": {},
   "outputs": [
    {
     "name": "stdout",
     "output_type": "stream",
     "text": [
      "919  is more than 99\n"
     ]
    }
   ],
   "source": [
    "x = 919\n",
    "\n",
    "if x < 99:\n",
    "    print(x, \"is less than equal to 99\")\n",
    "elif x == 99:\n",
    "    print(x, \"is equal to 99\")\n",
    "else:\n",
    "    print(x, \" is more than 99\") "
   ]
  },
  {
   "cell_type": "code",
   "execution_count": 51,
   "id": "f9cb24fd-3c78-4d1c-aa8a-339c654061bd",
   "metadata": {},
   "outputs": [
    {
     "name": "stdin",
     "output_type": "stream",
     "text": [
      "Enter your age: 17\n"
     ]
    },
    {
     "name": "stdout",
     "output_type": "stream",
     "text": [
      "Sorry!! you are not Python Wizard\n"
     ]
    }
   ],
   "source": [
    "#Logical Operator And OR NOR XOR\n",
    "x = int(input(\"Enter your age:\"))\n",
    "if x >= 18 and x <=50 :\n",
    "    print(\"You are a Python Wizard\")\n",
    "\n",
    "else:\n",
    "    print(\"Sorry!! you are not Python Wizard\")\n"
   ]
  },
  {
   "cell_type": "code",
   "execution_count": 53,
   "id": "f2d3902e-7e5d-401d-b496-d46eb67d51ee",
   "metadata": {},
   "outputs": [
    {
     "name": "stdout",
     "output_type": "stream",
     "text": [
      "You won a discount voucher of flat 1000 on next purchase\n"
     ]
    }
   ],
   "source": [
    "shoppinng_total = 550\n",
    "\n",
    "if shoppinng_total >= 500:\n",
    "    print(\"You won a discount voucher of flat 1000 on next purchase\")\n",
    "elif shoppinng_total >= 250:\n",
    "    print(\"You won a discount voucher of flat 500 on next purchase\")\n",
    "elif shoppinng_total >= 100:\n",
    "    print(\"You won a discount voucher of flat 100 on next purchase\")    \n",
    "else:\n",
    "    print(\"OOPS!! no discount for you!!!\")"
   ]
  },
  {
   "cell_type": "code",
   "execution_count": 55,
   "id": "81ea3b8e-6f19-4368-b888-6613f86a44c6",
   "metadata": {},
   "outputs": [
    {
     "name": "stdin",
     "output_type": "stream",
     "text": [
      "Enter year to check New Zealand made it to Finals in 20th century :  2002\n"
     ]
    },
    {
     "name": "stdout",
     "output_type": "stream",
     "text": [
      "World cup wasn't played in 2002\n"
     ]
    }
   ],
   "source": [
    "#nested if-else\n",
    "world_cups = {2019 : ['England', 'New Zealand'], 2015:[\"Australia\", \"New Zealand\"], 2011 : [\"India\", \"Sri Lanka\"], 2007: [\"Australia\", \"Sri Lanka\"], 2003: [\"Australia\", \"India\"]}\n",
    "\n",
    "year = int(input(\"Enter year to check New Zealand made it to Finals in 20th century : \"))\n",
    "\n",
    "if year in world_cups :\n",
    "    if \"New Zealand\" in world_cups[year] :\n",
    "        print(\"New Zealand made it to Finals\")\n",
    "    else:\n",
    "        print(\"New Zealand could not make it to Finals\")\n",
    "        \n",
    "else:\n",
    "    print(\"World cup wasn't played in\", year)"
   ]
  },
  {
   "cell_type": "code",
   "execution_count": 57,
   "id": "1e76b30b-e713-476f-9b3f-491aeb6b80b5",
   "metadata": {},
   "outputs": [
    {
     "name": "stdin",
     "output_type": "stream",
     "text": [
      "Enter your four digit pin:  5264\n",
      "Invalid input, please try again:  1234\n"
     ]
    },
    {
     "name": "stdout",
     "output_type": "stream",
     "text": [
      "Pin validation successful.\n"
     ]
    }
   ],
   "source": [
    "#Loop\n",
    "pin = input(\"Enter your four digit pin: \")\n",
    "while pin != '1234':\n",
    "    pin = input('Invalid input, please try again: ')  \n",
    "print(\"Pin validation successful.\")"
   ]
  },
  {
   "cell_type": "code",
   "execution_count": 63,
   "id": "43b6ca9f-02ae-4a37-a2c6-76106ed101d7",
   "metadata": {},
   "outputs": [
    {
     "name": "stdin",
     "output_type": "stream",
     "text": [
      "Enter your four-digit pin:  2596\n",
      "Invalid input, please try again:  2541\n",
      "Invalid input, please try again:  2563\n"
     ]
    },
    {
     "ename": "SystemExit",
     "evalue": "Too many invalid attempts",
     "output_type": "error",
     "traceback": [
      "An exception has occurred, use %tb to see the full traceback.\n",
      "\u001b[1;31mSystemExit\u001b[0m\u001b[1;31m:\u001b[0m Too many invalid attempts\n"
     ]
    }
   ],
   "source": [
    "import sys\n",
    "pin = input(\"Enter your four-digit pin: \")\n",
    "attempt_count = 1\n",
    "while pin != '1234':\n",
    "    if attempt_count >= 3:\n",
    "     sys.exit(\"Too many invalid attempts\")   #error code\n",
    "    pin = input('Invalid input, please try again: ')  \n",
    "    attempt_count += 1\n",
    "print(\"Pin validation successful.\")"
   ]
  },
  {
   "cell_type": "code",
   "execution_count": 65,
   "id": "868fe9d1-ea11-4b12-ba42-1512248438c0",
   "metadata": {},
   "outputs": [
    {
     "name": "stdout",
     "output_type": "stream",
     "text": [
      "N\n",
      "e\n",
      "w\n",
      " \n",
      "Y\n",
      "o\n",
      "r\n",
      "k\n"
     ]
    }
   ],
   "source": [
    "# iterate over a string\n",
    "\n",
    "string = \"New York\"\n",
    "for ch in string:\n",
    "    print(ch)"
   ]
  },
  {
   "cell_type": "code",
   "execution_count": 67,
   "id": "73047336-e78a-49da-a25b-20daa4ac509c",
   "metadata": {},
   "outputs": [
    {
     "name": "stdout",
     "output_type": "stream",
     "text": [
      "1\n",
      "3\n",
      "4\n",
      "2\n",
      "5\n",
      "6\n"
     ]
    }
   ],
   "source": [
    "l = [1,3,4,2,5,6]\n",
    "for i in l : \n",
    "    print(i)\n"
   ]
  },
  {
   "cell_type": "code",
   "execution_count": 69,
   "id": "90cb2ea1-b2bc-4471-baa4-e9b2db68b145",
   "metadata": {},
   "outputs": [
    {
     "name": "stdout",
     "output_type": "stream",
     "text": [
      "{'Honda': 5, 'Benz': 4, 'Suzuki': 6}\n"
     ]
    }
   ],
   "source": [
    "l1 = [\"Honda\", \"Benz\", \"Suzuki\"]\n",
    "d = {i : len(i) for i in l1}\n",
    "\n",
    "print(d)"
   ]
  },
  {
   "cell_type": "code",
   "execution_count": null,
   "id": "43936ddc-a2a1-4b2a-87cc-91cdb3ced421",
   "metadata": {},
   "outputs": [],
   "source": []
  }
 ],
 "metadata": {
  "kernelspec": {
   "display_name": "Python 3 (ipykernel)",
   "language": "python",
   "name": "python3"
  },
  "language_info": {
   "codemirror_mode": {
    "name": "ipython",
    "version": 3
   },
   "file_extension": ".py",
   "mimetype": "text/x-python",
   "name": "python",
   "nbconvert_exporter": "python",
   "pygments_lexer": "ipython3",
   "version": "3.12.4"
  }
 },
 "nbformat": 4,
 "nbformat_minor": 5
}
