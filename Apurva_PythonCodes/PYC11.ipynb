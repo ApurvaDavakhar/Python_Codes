{
 "cells": [
  {
   "cell_type": "code",
   "execution_count": 4,
   "id": "39196e27-be09-4e1e-8c82-209006fecd6c",
   "metadata": {},
   "outputs": [
    {
     "name": "stdout",
     "output_type": "stream",
     "text": [
      "Hello\n"
     ]
    }
   ],
   "source": [
    "#Create a string variable and print the string.\n",
    "var='Hello'\n",
    "print(var)"
   ]
  },
  {
   "cell_type": "code",
   "execution_count": 6,
   "id": "32b1ac71-5883-486f-8ed3-d3ec0cf4c579",
   "metadata": {},
   "outputs": [
    {
     "name": "stdin",
     "output_type": "stream",
     "text": [
      "Enter your name Hamster\n"
     ]
    },
    {
     "name": "stdout",
     "output_type": "stream",
     "text": [
      "Hamster\n"
     ]
    }
   ],
   "source": [
    "#take user i/p and print str\n",
    "var1=input('Enter your name')\n",
    "print(var1)"
   ]
  },
  {
   "cell_type": "code",
   "execution_count": 10,
   "id": "e0172112-d434-4829-afe4-ea1ba017b33d",
   "metadata": {},
   "outputs": [
    {
     "name": "stdout",
     "output_type": "stream",
     "text": [
      "   @ @  \n",
      " j     L\n"
     ]
    }
   ],
   "source": [
    "#print pattern\n",
    "print('   @ @  ')\n",
    "print(' j     L')"
   ]
  },
  {
   "cell_type": "code",
   "execution_count": 12,
   "id": "c431d1b7-eb40-4434-a3f3-428b69761d5e",
   "metadata": {},
   "outputs": [
    {
     "name": "stdout",
     "output_type": "stream",
     "text": [
      "   1  \n",
      "  676 \n",
      " 56364\n"
     ]
    }
   ],
   "source": [
    "print('   1  ')\n",
    "print('  676 ')\n",
    "print(' 56364')"
   ]
  },
  {
   "cell_type": "code",
   "execution_count": 16,
   "id": "107a753e-05e1-4363-99ff-6c3152f24179",
   "metadata": {},
   "outputs": [
    {
     "name": "stdout",
     "output_type": "stream",
     "text": [
      "####################################################################################################\n"
     ]
    }
   ],
   "source": [
    "#print symbol10 times\n",
    "print('#'*100)"
   ]
  },
  {
   "cell_type": "code",
   "execution_count": 18,
   "id": "e52bda06-6e53-4e0e-aecc-005ff823b9ba",
   "metadata": {},
   "outputs": [
    {
     "name": "stdout",
     "output_type": "stream",
     "text": [
      "25.6988\n"
     ]
    }
   ],
   "source": [
    "#print integer as sting\n",
    "integer=25.6988\n",
    "string=str(integer)\n",
    "print(string)"
   ]
  },
  {
   "cell_type": "code",
   "execution_count": 20,
   "id": "a0aec21f-a946-451f-b89b-dd4beea7f757",
   "metadata": {},
   "outputs": [
    {
     "name": "stdin",
     "output_type": "stream",
     "text": [
      "Enter a first no. 10\n",
      "Enter second no. 25\n"
     ]
    },
    {
     "name": "stdout",
     "output_type": "stream",
     "text": [
      "250\n"
     ]
    }
   ],
   "source": [
    "#Take two no. store in var then take product of it and print\n",
    "var1=input('Enter a first no.')\n",
    "var2=input('Enter second no.')\n",
    "prod= int(var1)* int(var2)\n",
    "print(prod)"
   ]
  },
  {
   "cell_type": "code",
   "execution_count": null,
   "id": "1df9af10-74eb-425b-9602-ff2f682352da",
   "metadata": {},
   "outputs": [],
   "source": []
  }
 ],
 "metadata": {
  "kernelspec": {
   "display_name": "Python 3 (ipykernel)",
   "language": "python",
   "name": "python3"
  },
  "language_info": {
   "codemirror_mode": {
    "name": "ipython",
    "version": 3
   },
   "file_extension": ".py",
   "mimetype": "text/x-python",
   "name": "python",
   "nbconvert_exporter": "python",
   "pygments_lexer": "ipython3",
   "version": "3.12.4"
  }
 },
 "nbformat": 4,
 "nbformat_minor": 5
}
