{
 "cells": [
  {
   "cell_type": "code",
   "execution_count": 22,
   "id": "110d35be-f3b0-40b5-834d-75557a840e8c",
   "metadata": {},
   "outputs": [
    {
     "name": "stdout",
     "output_type": "stream",
     "text": [
      "hamster \n",
      "is a bright student\n"
     ]
    }
   ],
   "source": [
    "#Slicing\n",
    "student = \"hamster is a bright student\"\n",
    "Hamster = student[ :8]\n",
    "print(Hamster)\n",
    "\n",
    "print(student[ 8: ])"
   ]
  },
  {
   "cell_type": "code",
   "execution_count": null,
   "id": "6699eab4-d9bc-4a36-b698-4f11d8919ceb",
   "metadata": {},
   "outputs": [],
   "source": []
  }
 ],
 "metadata": {
  "kernelspec": {
   "display_name": "Python 3 (ipykernel)",
   "language": "python",
   "name": "python3"
  },
  "language_info": {
   "codemirror_mode": {
    "name": "ipython",
    "version": 3
   },
   "file_extension": ".py",
   "mimetype": "text/x-python",
   "name": "python",
   "nbconvert_exporter": "python",
   "pygments_lexer": "ipython3",
   "version": "3.12.4"
  }
 },
 "nbformat": 4,
 "nbformat_minor": 5
}
