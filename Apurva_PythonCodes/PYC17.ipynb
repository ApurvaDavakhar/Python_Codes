{
 "cells": [
  {
   "cell_type": "code",
   "execution_count": 2,
   "id": "b3a87bfa-e764-4a96-b94d-01800a21cf77",
   "metadata": {},
   "outputs": [
    {
     "name": "stdout",
     "output_type": "stream",
     "text": [
      "1\n",
      "2\n",
      "3\n",
      "5\n",
      "7\n",
      "11\n",
      "13\n",
      "17\n",
      "19\n"
     ]
    }
   ],
   "source": [
    "# Write a program to print prime numbers between 1 to 20\n",
    "for n in range(1, 20):\n",
    "    flag = True\n",
    "    for i in range(2, n):\n",
    "        if n % i == 0:\n",
    "            flag = False\n",
    "            break   \n",
    "    if flag :\n",
    "        print(n)"
   ]
  },
  {
   "cell_type": "code",
   "execution_count": null,
   "id": "0db7cb3d-1a6b-40ba-a6a0-aae0049f0d65",
   "metadata": {},
   "outputs": [],
   "source": [
    "#Comprehensions"
   ]
  },
  {
   "cell_type": "code",
   "execution_count": 30,
   "id": "a39f1f5f-85fc-4a53-9a91-665d85a7e32c",
   "metadata": {},
   "outputs": [
    {
     "data": {
      "text/plain": [
       "[11, 5, 4, 6]"
      ]
     },
     "execution_count": 30,
     "metadata": {},
     "output_type": "execute_result"
    }
   ],
   "source": [
    "l1 = [\"Automobiles\", \"Honda\", \"Benz\", \"Suzuki\"]\n",
    "\n",
    "l2 = []\n",
    "\n",
    "for i in l1 :\n",
    "    l2.append(len(i))\n",
    "    \n",
    "l2 "
   ]
  },
  {
   "cell_type": "code",
   "execution_count": 26,
   "id": "134f4cb5-9c28-4554-843d-26ae8991d756",
   "metadata": {},
   "outputs": [
    {
     "name": "stdout",
     "output_type": "stream",
     "text": [
      "[11, 5, 4, 6]\n"
     ]
    }
   ],
   "source": [
    "# Example on list comprehension\n",
    "\n",
    "l1 = [\"Automobiles\", \"Honda\", \"Benz\", \"Suzuki\"]\n",
    "l2 = [len(i) for i in l1]\n",
    "print(l2)"
   ]
  },
  {
   "cell_type": "code",
   "execution_count": 24,
   "id": "4e48061f-9213-4d16-b8de-0c6ac8334863",
   "metadata": {},
   "outputs": [
    {
     "name": "stdout",
     "output_type": "stream",
     "text": [
      "automobiles - 11\n",
      "Honda - 5\n",
      "Benz - 4\n",
      "Suzuki - 6\n"
     ]
    }
   ],
   "source": [
    "for i,j in zip(l1,l2):\n",
    "    print(i,\"-\",j)"
   ]
  },
  {
   "cell_type": "code",
   "execution_count": 28,
   "id": "6089e7ac-af2f-4a99-bfba-d94d500084e4",
   "metadata": {},
   "outputs": [
    {
     "name": "stdout",
     "output_type": "stream",
     "text": [
      "{'Automobiles': 11, 'Honda': 5, 'Benz': 4, 'Suzuki': 6}\n"
     ]
    }
   ],
   "source": [
    "# Example of dictionary comprehension\n",
    "\n",
    "l1 = [\"Automobiles\", \"Honda\", \"Benz\", \"Suzuki\"]\n",
    "d = {i : len(i) for i in l1}\n",
    "print(d)"
   ]
  },
  {
   "cell_type": "code",
   "execution_count": 38,
   "id": "cc4bc408-c582-456f-b368-009197fe42a3",
   "metadata": {},
   "outputs": [
    {
     "name": "stdout",
     "output_type": "stream",
     "text": [
      "{'Automobiles': 11, 'Honda': 5, 'Benz': 4, 'Suzuki': 6}\n",
      "Automobiles: 11\n",
      "Honda: 5\n",
      "Benz: 4\n",
      "Suzuki: 6\n"
     ]
    }
   ],
   "source": [
    "l1 = [\"Automobiles\", \"Honda\", \"Benz\", \"Suzuki\"]\n",
    "d = {i: len(i) for i in l1}\n",
    "print(d)\n",
    "\n",
    "for key, value in d.items():\n",
    "    print(f\"{key}: {value}\")"
   ]
  },
  {
   "cell_type": "code",
   "execution_count": 44,
   "id": "7654091e-0803-4c2a-ba12-a2d4a59106a5",
   "metadata": {},
   "outputs": [
    {
     "data": {
      "text/plain": [
       "600"
      ]
     },
     "execution_count": 44,
     "metadata": {},
     "output_type": "execute_result"
    }
   ],
   "source": [
    "#Functions\n",
    "\n",
    "#take a value and return its factorial\n",
    "\n",
    "def factorial(n):\n",
    "    fact = 5 \n",
    "    for i in range(1, n+1):\n",
    "        fact *= i  \n",
    "    return fact\n",
    "factorial(5)"
   ]
  },
  {
   "cell_type": "code",
   "execution_count": 53,
   "id": "a01a32ba-fb36-41b3-add5-3715db26d7b9",
   "metadata": {},
   "outputs": [],
   "source": [
    "#Function argument\n",
    "\n",
    "def func(name, age = 35):  # default parameter\n",
    "    print(\"name : \", name)\n",
    "    print(\"age : \", age)"
   ]
  },
  {
   "cell_type": "code",
   "execution_count": 55,
   "id": "61745b1e-514f-426b-9562-272b231acbd8",
   "metadata": {},
   "outputs": [
    {
     "name": "stdout",
     "output_type": "stream",
     "text": [
      "name :  Hamster\n",
      "age :  22\n"
     ]
    }
   ],
   "source": [
    "func(\"Hamster\", 22)"
   ]
  },
  {
   "cell_type": "code",
   "execution_count": 65,
   "id": "45359eea-1c95-470e-8b0a-911b5f4db886",
   "metadata": {},
   "outputs": [
    {
     "ename": "TypeError",
     "evalue": "<lambda>() takes 1 positional argument but 3 were given",
     "output_type": "error",
     "traceback": [
      "\u001b[1;31m---------------------------------------------------------------------------\u001b[0m",
      "\u001b[1;31mTypeError\u001b[0m                                 Traceback (most recent call last)",
      "Cell \u001b[1;32mIn[65], line 6\u001b[0m\n\u001b[0;32m      1\u001b[0m \u001b[38;5;66;03m#Lambda Function\u001b[39;00m\n\u001b[0;32m      2\u001b[0m \n\u001b[0;32m      3\u001b[0m \u001b[38;5;66;03m# Write a lambda function to check a number is even or odd\u001b[39;00m\n\u001b[0;32m      5\u001b[0m f \u001b[38;5;241m=\u001b[39m \u001b[38;5;28;01mlambda\u001b[39;00m x: \u001b[38;5;124m\"\u001b[39m\u001b[38;5;124meven\u001b[39m\u001b[38;5;124m\"\u001b[39m \u001b[38;5;28;01mif\u001b[39;00m x \u001b[38;5;241m%\u001b[39m \u001b[38;5;241m2\u001b[39m \u001b[38;5;241m==\u001b[39m \u001b[38;5;241m0\u001b[39m \u001b[38;5;28;01melse\u001b[39;00m \u001b[38;5;124m\"\u001b[39m\u001b[38;5;124modd\u001b[39m\u001b[38;5;124m\"\u001b[39m\n\u001b[1;32m----> 6\u001b[0m f(\u001b[38;5;241m12\u001b[39m,\u001b[38;5;241m5\u001b[39m,\u001b[38;5;241m2\u001b[39m)\n",
      "\u001b[1;31mTypeError\u001b[0m: <lambda>() takes 1 positional argument but 3 were given"
     ]
    }
   ],
   "source": [
    "#Lambda Function\n",
    "\n",
    "# Write a lambda function to check a number is even or odd\n",
    "\n",
    "f = lambda x: \"even\" if x % 2 == 0 else \"odd\"\n",
    "f(12,5,2)\n"
   ]
  },
  {
   "cell_type": "code",
   "execution_count": 68,
   "id": "283dd2f2-078d-40b2-b265-b9a4af810ae4",
   "metadata": {},
   "outputs": [
    {
     "data": {
      "text/plain": [
       "'even'"
      ]
     },
     "execution_count": 68,
     "metadata": {},
     "output_type": "execute_result"
    }
   ],
   "source": [
    "f = lambda x: \"even\" if x % 2 == 0 else \"odd\"\n",
    "f(12)"
   ]
  },
  {
   "cell_type": "code",
   "execution_count": 70,
   "id": "a44b5b1c-76b4-4d35-882b-52fa9f1e1f39",
   "metadata": {},
   "outputs": [
    {
     "data": {
      "text/plain": [
       "'odd'"
      ]
     },
     "execution_count": 70,
     "metadata": {},
     "output_type": "execute_result"
    }
   ],
   "source": [
    "f = lambda x: \"even\" if x % 2 == 0 else \"odd\"\n",
    "f(5)"
   ]
  },
  {
   "cell_type": "code",
   "execution_count": null,
   "id": "51be6fe6-d0ca-41e1-980f-7bd9232584ba",
   "metadata": {},
   "outputs": [],
   "source": []
  }
 ],
 "metadata": {
  "kernelspec": {
   "display_name": "Python 3 (ipykernel)",
   "language": "python",
   "name": "python3"
  },
  "language_info": {
   "codemirror_mode": {
    "name": "ipython",
    "version": 3
   },
   "file_extension": ".py",
   "mimetype": "text/x-python",
   "name": "python",
   "nbconvert_exporter": "python",
   "pygments_lexer": "ipython3",
   "version": "3.12.4"
  }
 },
 "nbformat": 4,
 "nbformat_minor": 5
}
