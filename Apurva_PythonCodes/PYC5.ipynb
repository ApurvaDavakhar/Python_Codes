{
 "cells": [
  {
   "cell_type": "code",
   "execution_count": 3,
   "id": "21a4dbf3-1b7e-416c-89c2-031093399589",
   "metadata": {},
   "outputs": [
    {
     "name": "stdout",
     "output_type": "stream",
     "text": [
      "True\n",
      "10.0\n",
      "10\n"
     ]
    }
   ],
   "source": [
    "#Now let us try taking an \n",
    "a = 10\n",
    "print ( bool(a))\n",
    "print ( float(a))\n",
    "print ( str(a))"
   ]
  },
  {
   "cell_type": "code",
   "execution_count": 5,
   "id": "09e9a60d-2f95-46b7-a07a-7ed4303a97bf",
   "metadata": {},
   "outputs": [
    {
     "name": "stdout",
     "output_type": "stream",
     "text": [
      "Addition  =  4\n",
      "Substraction =  0\n",
      "Multiplication =  4\n",
      "Division =  1.0\n",
      "Floor Division =  1\n",
      "Modulus or remainder 0\n",
      "Exponential =  4\n"
     ]
    }
   ],
   "source": [
    "#Arithmatic operations\n",
    "a = 2\n",
    "b = 2\n",
    "print(\"Addition  = \", a + b)  \n",
    "print(\"Substraction = \", a - b) \n",
    "print(\"Multiplication = \", a * b) \n",
    "print(\"Division = \", a / b)\n",
    "print(\"Floor Division = \", a // b) \n",
    "print(\"Modulus or remainder\",a % b) \n",
    "print(\"Exponential = \", a ** b)"
   ]
  },
  {
   "cell_type": "code",
   "execution_count": 7,
   "id": "dad75c9e-c1fa-4f07-ba61-0d0a1d618dbe",
   "metadata": {},
   "outputs": [
    {
     "name": "stdout",
     "output_type": "stream",
     "text": [
      "7.857142857142857\n"
     ]
    }
   ],
   "source": [
    "print((4 * 4) - 9 + 6 / 7)"
   ]
  },
  {
   "cell_type": "code",
   "execution_count": null,
   "id": "1668c0ec-7f04-4de2-8b4d-f49220676feb",
   "metadata": {},
   "outputs": [],
   "source": []
  }
 ],
 "metadata": {
  "kernelspec": {
   "display_name": "Python 3 (ipykernel)",
   "language": "python",
   "name": "python3"
  },
  "language_info": {
   "codemirror_mode": {
    "name": "ipython",
    "version": 3
   },
   "file_extension": ".py",
   "mimetype": "text/x-python",
   "name": "python",
   "nbconvert_exporter": "python",
   "pygments_lexer": "ipython3",
   "version": "3.12.4"
  }
 },
 "nbformat": 4,
 "nbformat_minor": 5
}
