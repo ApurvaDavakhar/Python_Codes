{
 "cells": [
  {
   "cell_type": "code",
   "execution_count": 2,
   "id": "86d8c11b-1f02-4662-9354-d150c2726d96",
   "metadata": {},
   "outputs": [
    {
     "ename": "SyntaxError",
     "evalue": "unterminated string literal (detected at line 2) (4200956288.py, line 2)",
     "output_type": "error",
     "traceback": [
      "\u001b[1;36m  Cell \u001b[1;32mIn[2], line 2\u001b[1;36m\u001b[0m\n\u001b[1;33m    print('I didn't know that')\u001b[0m\n\u001b[1;37m                             ^\u001b[0m\n\u001b[1;31mSyntaxError\u001b[0m\u001b[1;31m:\u001b[0m unterminated string literal (detected at line 2)\n"
     ]
    }
   ],
   "source": [
    "#now lets fix error while writing sent including words like don't, I'll, etc\n",
    "print('I didn't know that')"
   ]
  },
  {
   "cell_type": "code",
   "execution_count": 4,
   "id": "dd0b2ccb-b408-48c0-a6e8-bcb42e5c5183",
   "metadata": {},
   "outputs": [
    {
     "name": "stdout",
     "output_type": "stream",
     "text": [
      "I didn't know that\n"
     ]
    }
   ],
   "source": [
    "print('I didn\\'t know that')"
   ]
  },
  {
   "cell_type": "code",
   "execution_count": 6,
   "id": "ad242b5b-d3f9-48dd-b219-f1c416d457ad",
   "metadata": {},
   "outputs": [
    {
     "name": "stdout",
     "output_type": "stream",
     "text": [
      "I didn't know that\n"
     ]
    }
   ],
   "source": [
    "#or else we can do is use double quotes\n",
    "print(\"I didn't know that\")\n"
   ]
  },
  {
   "cell_type": "code",
   "execution_count": 8,
   "id": "a38c3a9e-c771-40e3-8343-b9c27ab69998",
   "metadata": {},
   "outputs": [
    {
     "name": "stdout",
     "output_type": "stream",
     "text": [
      "Hi Hamster02 \n",
      "\n",
      "How are you?\n"
     ]
    }
   ],
   "source": [
    "print(\"Hi Hamster02 \\n\\nHow are you?\")"
   ]
  },
  {
   "cell_type": "code",
   "execution_count": null,
   "id": "21bc5fa8-1419-4a20-9b86-18c8fba1c188",
   "metadata": {},
   "outputs": [],
   "source": []
  }
 ],
 "metadata": {
  "kernelspec": {
   "display_name": "Python 3 (ipykernel)",
   "language": "python",
   "name": "python3"
  },
  "language_info": {
   "codemirror_mode": {
    "name": "ipython",
    "version": 3
   },
   "file_extension": ".py",
   "mimetype": "text/x-python",
   "name": "python",
   "nbconvert_exporter": "python",
   "pygments_lexer": "ipython3",
   "version": "3.12.4"
  }
 },
 "nbformat": 4,
 "nbformat_minor": 5
}
