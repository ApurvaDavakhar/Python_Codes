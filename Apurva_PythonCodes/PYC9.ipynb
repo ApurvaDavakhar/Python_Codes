{
 "cells": [
  {
   "cell_type": "code",
   "execution_count": 25,
   "id": "9ee179da-125a-4550-8fac-cd9994610665",
   "metadata": {},
   "outputs": [],
   "source": [
    "#Generate user_id\n",
    "# User details on name, year of birth and age\n",
    "name = 'Hamster Python Wizard'\n",
    "yob\t= 2002\t\n",
    "age\t= 22"
   ]
  },
  {
   "cell_type": "code",
   "execution_count": 27,
   "id": "d4544077-f5d7-421e-8338-95985e4de51e",
   "metadata": {},
   "outputs": [
    {
     "name": "stdout",
     "output_type": "stream",
     "text": [
      "Hamster Python Wizard200222\n"
     ]
    }
   ],
   "source": [
    "print(name+str(yob)+str(age))"
   ]
  },
  {
   "cell_type": "code",
   "execution_count": 29,
   "id": "b820e395-3507-476e-862c-c99414978a4e",
   "metadata": {},
   "outputs": [
    {
     "name": "stdout",
     "output_type": "stream",
     "text": [
      "The user_id for the user Hamster Python Wizard with year of birth 2002 and age 22 is Hamster Python Wizard200222\n"
     ]
    }
   ],
   "source": [
    "# Extract user id using string formatting - user's name + yob + age without any whitespaces\n",
    "user_id =(name+str(yob)+str(age))\n",
    "print(\"The user_id for the user {} with year of birth {} and age {} is {}\".format(name, yob, age, user_id))"
   ]
  },
  {
   "cell_type": "code",
   "execution_count": 33,
   "id": "7db15e66-760c-4e39-972f-8220d9b78b4b",
   "metadata": {},
   "outputs": [
    {
     "data": {
      "text/plain": [
       "'Hamster_Python_Wizard'"
      ]
     },
     "execution_count": 33,
     "metadata": {},
     "output_type": "execute_result"
    }
   ],
   "source": [
    "name.replace(\" \",\"_\")"
   ]
  },
  {
   "cell_type": "code",
   "execution_count": 35,
   "id": "b8b1f0c7-f854-4007-a793-61ed98373130",
   "metadata": {},
   "outputs": [
    {
     "data": {
      "text/plain": [
       "'_H_a_m_s_t_e_r_ _P_y_t_h_o_n_ _W_i_z_a_r_d_'"
      ]
     },
     "execution_count": 35,
     "metadata": {},
     "output_type": "execute_result"
    }
   ],
   "source": [
    "name.replace(\"\",\"_\")"
   ]
  },
  {
   "cell_type": "code",
   "execution_count": 47,
   "id": "972adcbe-3280-48a4-ad5b-be206e0a81ef",
   "metadata": {},
   "outputs": [
    {
     "name": "stdout",
     "output_type": "stream",
     "text": [
      "Hamster_Python_Wizard200222\n"
     ]
    }
   ],
   "source": [
    "user_id = name.replace(\" \",\"_\")+(str(yob)+str(age)) #remove spaces in b/w the name and surname of the user\n",
    "print(user_id)"
   ]
  },
  {
   "cell_type": "code",
   "execution_count": 49,
   "id": "ef8123ae-e1d7-48d0-832b-01917155c6f6",
   "metadata": {},
   "outputs": [
    {
     "data": {
      "text/plain": [
       "21"
      ]
     },
     "execution_count": 49,
     "metadata": {},
     "output_type": "execute_result"
    }
   ],
   "source": [
    "# Find the length of the name\n",
    "len(name)"
   ]
  },
  {
   "cell_type": "code",
   "execution_count": 67,
   "id": "c501f403-2aaa-4c48-b5b6-d0454a6dd15f",
   "metadata": {},
   "outputs": [
    {
     "data": {
      "text/plain": [
       "'HPW200222'"
      ]
     },
     "execution_count": 67,
     "metadata": {},
     "output_type": "execute_result"
    }
   ],
   "source": [
    "##Extract the first letter of name\n",
    "name.split(\" \")[0][0]+ name.split(\" \")[1][0]+ name.split(\" \")[2][0]+ str(yob)+str(age)"
   ]
  },
  {
   "cell_type": "code",
   "execution_count": null,
   "id": "73622eb2-63de-41d6-a069-f93b6093735c",
   "metadata": {},
   "outputs": [],
   "source": []
  }
 ],
 "metadata": {
  "kernelspec": {
   "display_name": "Python 3 (ipykernel)",
   "language": "python",
   "name": "python3"
  },
  "language_info": {
   "codemirror_mode": {
    "name": "ipython",
    "version": 3
   },
   "file_extension": ".py",
   "mimetype": "text/x-python",
   "name": "python",
   "nbconvert_exporter": "python",
   "pygments_lexer": "ipython3",
   "version": "3.12.4"
  }
 },
 "nbformat": 4,
 "nbformat_minor": 5
}
