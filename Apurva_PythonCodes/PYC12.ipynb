{
 "cells": [
  {
   "cell_type": "code",
   "execution_count": 10,
   "id": "e344f481-52a2-4601-a8a0-109b1b11ef30",
   "metadata": {},
   "outputs": [
    {
     "data": {
      "text/plain": [
       "['Hamster', 'Coder', [2024, 2002], ('Python', 'Wizard'), 5, 8]"
      ]
     },
     "execution_count": 10,
     "metadata": {},
     "output_type": "execute_result"
    }
   ],
   "source": [
    "# extend()\n",
    "L = [\"Hamster\", \"Coder\", [2024,  2002],(\"Python\", \"Wizard\")]\n",
    "L.extend([5, 8]) #adds to same str\n",
    "L"
   ]
  },
  {
   "cell_type": "code",
   "execution_count": 12,
   "id": "22e387f0-f652-40b6-b156-a406838dcf2c",
   "metadata": {},
   "outputs": [
    {
     "data": {
      "text/plain": [
       "['Hamster', 'Coder', [2024, 2002], ('Python', 'Wizard'), [5, 8]]"
      ]
     },
     "execution_count": 12,
     "metadata": {},
     "output_type": "execute_result"
    }
   ],
   "source": [
    "# append()\n",
    "L = [\"Hamster\", \"Coder\", [2024,  2002],(\"Python\", \"Wizard\")]\n",
    "L.append([5, 8]) #makes diff str\n",
    "L"
   ]
  },
  {
   "cell_type": "code",
   "execution_count": 22,
   "id": "5607cd6e-90f9-49b9-a4e0-d7cfab6774a3",
   "metadata": {},
   "outputs": [
    {
     "data": {
      "text/plain": [
       "[('Python', 'Wizard'), [5, 8]]"
      ]
     },
     "execution_count": 22,
     "metadata": {},
     "output_type": "execute_result"
    }
   ],
   "source": [
    "del L[0]\n",
    "L"
   ]
  },
  {
   "cell_type": "code",
   "execution_count": 24,
   "id": "5df7ac83-2062-4c82-93eb-635f2e25bd5e",
   "metadata": {},
   "outputs": [
    {
     "data": {
      "text/plain": [
       "[]"
      ]
     },
     "execution_count": 24,
     "metadata": {},
     "output_type": "execute_result"
    }
   ],
   "source": [
    "del L[0:2]\n",
    "L"
   ]
  },
  {
   "cell_type": "code",
   "execution_count": 26,
   "id": "86b317b1-6314-400d-8dff-460a31a93f4f",
   "metadata": {},
   "outputs": [
    {
     "data": {
      "text/plain": [
       "('Hamster', 12, 4.5)"
      ]
     },
     "execution_count": 26,
     "metadata": {},
     "output_type": "execute_result"
    }
   ],
   "source": [
    "t = (\"Hamster\", 12, 4.5)\n",
    "t"
   ]
  },
  {
   "cell_type": "code",
   "execution_count": 28,
   "id": "10a1b684-0071-4d17-a80d-a0d545027bab",
   "metadata": {},
   "outputs": [
    {
     "data": {
      "text/plain": [
       "tuple"
      ]
     },
     "execution_count": 28,
     "metadata": {},
     "output_type": "execute_result"
    }
   ],
   "source": [
    "type(t)"
   ]
  },
  {
   "cell_type": "code",
   "execution_count": 40,
   "id": "56d4ad26-8a1c-4cee-a1f6-8802d2aa23a3",
   "metadata": {},
   "outputs": [
    {
     "data": {
      "text/plain": [
       "('a', 'd')"
      ]
     },
     "execution_count": 40,
     "metadata": {},
     "output_type": "execute_result"
    }
   ],
   "source": [
    "t = ('Hamster is a Python wizard')\n",
    "t[1], t[-1] #indexing in tupple"
   ]
  },
  {
   "cell_type": "code",
   "execution_count": 44,
   "id": "7b15dc09-24dc-4fdf-a7cb-46751f68459d",
   "metadata": {},
   "outputs": [
    {
     "data": {
      "text/plain": [
       "(('Seattle', 84, 'Python'), ('Python', 1), 4)"
      ]
     },
     "execution_count": 44,
     "metadata": {},
     "output_type": "execute_result"
    }
   ],
   "source": [
    "t = (\"Seattle\", 84, \"Python\", 1)\n",
    "\n",
    "t[0:3], t[-2:], len(t) #slicing"
   ]
  },
  {
   "cell_type": "code",
   "execution_count": 46,
   "id": "6575160c-7742-4bb3-957a-493d7f168873",
   "metadata": {},
   "outputs": [
    {
     "data": {
      "text/plain": [
       "(21, 2, 7)"
      ]
     },
     "execution_count": 46,
     "metadata": {},
     "output_type": "execute_result"
    }
   ],
   "source": [
    "t = (2, 4, 3, 5, 7)\n",
    "sum(t), min(t), max(t)"
   ]
  },
  {
   "cell_type": "code",
   "execution_count": 56,
   "id": "51e9ff14-b65c-468f-aa73-0a3f37fd81dc",
   "metadata": {},
   "outputs": [
    {
     "data": {
      "text/plain": [
       "('USA', 4, 3, 'Hard Rock', 7.5)"
      ]
     },
     "execution_count": 56,
     "metadata": {},
     "output_type": "execute_result"
    }
   ],
   "source": [
    "new_t = t[0:3] + (\"Hard Rock\",) + t[4:]\n",
    "new_t"
   ]
  },
  {
   "cell_type": "code",
   "execution_count": 58,
   "id": "afc015ba-2de9-49e1-9d81-8a16d33be75c",
   "metadata": {},
   "outputs": [
    {
     "name": "stdout",
     "output_type": "stream",
     "text": [
      "1\n"
     ]
    }
   ],
   "source": [
    "t = (1,2,3,4)     # Packing \n",
    "(a,b,c,d) = t     # Unpacking \n",
    "print (a)"
   ]
  },
  {
   "cell_type": "code",
   "execution_count": 60,
   "id": "c89692fc-f960-4cc4-9dc2-cd056faa0380",
   "metadata": {},
   "outputs": [
    {
     "name": "stdout",
     "output_type": "stream",
     "text": [
      "['__add__', '__class__', '__class_getitem__', '__contains__', '__delattr__', '__dir__', '__doc__', '__eq__', '__format__', '__ge__', '__getattribute__', '__getitem__', '__getnewargs__', '__getstate__', '__gt__', '__hash__', '__init__', '__init_subclass__', '__iter__', '__le__', '__len__', '__lt__', '__mul__', '__ne__', '__new__', '__reduce__', '__reduce_ex__', '__repr__', '__rmul__', '__setattr__', '__sizeof__', '__str__', '__subclasshook__', 'count', 'index']\n"
     ]
    }
   ],
   "source": [
    "t = ()\n",
    "print(dir(t)) # dir() - to view the attributes or methods of an object"
   ]
  },
  {
   "cell_type": "code",
   "execution_count": 62,
   "id": "1d44932c-f48d-4734-bab6-e4165a6fbc9c",
   "metadata": {},
   "outputs": [
    {
     "data": {
      "text/plain": [
       "{1, 2, 3, 4, 5}"
      ]
     },
     "execution_count": 62,
     "metadata": {},
     "output_type": "execute_result"
    }
   ],
   "source": [
    "l = [1,3,2,4,5,5]\n",
    "\n",
    "set_l = set(l)\n",
    "\n",
    "set_l"
   ]
  },
  {
   "cell_type": "code",
   "execution_count": 66,
   "id": "3b115c82-3f72-4be2-a3e8-4bab24bf1b08",
   "metadata": {},
   "outputs": [
    {
     "name": "stdout",
     "output_type": "stream",
     "text": [
      "{2, 4}\n",
      "{2, 4}\n"
     ]
    }
   ],
   "source": [
    "# Set Operations\n",
    "\n",
    "A = {0, 2, 4, 6, 8}\n",
    "B = {1, 2, 3, 4, 5}\n",
    "print(A & B) # Intersection\n",
    "print(A.intersection(B))\n"
   ]
  },
  {
   "cell_type": "code",
   "execution_count": 76,
   "id": "47bd125e-2e8a-48a4-a591-8b29de2e6f66",
   "metadata": {},
   "outputs": [
    {
     "name": "stdout",
     "output_type": "stream",
     "text": [
      "{0, 8, 6}\n",
      "{0, 8, 6}\n"
     ]
    }
   ],
   "source": [
    "print(A - B) # Difference\n",
    "print(A.difference(B))  # only A elements"
   ]
  },
  {
   "cell_type": "code",
   "execution_count": 70,
   "id": "c6c44ff9-ff9b-4fb7-b262-075a23ab0d73",
   "metadata": {},
   "outputs": [
    {
     "data": {
      "text/plain": [
       "'USD'"
      ]
     },
     "execution_count": 70,
     "metadata": {},
     "output_type": "execute_result"
    }
   ],
   "source": [
    "# Creating a dictionary\n",
    "\n",
    "d = {\"India\" : \"INR\", \"USA\" : \"USD\", \"France\" : \"Euros\"}\n",
    "\n",
    "# Access value using keys\n",
    "\n",
    "d[\"USA\"]"
   ]
  },
  {
   "cell_type": "code",
   "execution_count": 72,
   "id": "c2215570-ffd5-4b6b-bc00-d26060e682ef",
   "metadata": {},
   "outputs": [
    {
     "data": {
      "text/plain": [
       "{'India': 'INR', 'USA': 'USD'}"
      ]
     },
     "execution_count": 72,
     "metadata": {},
     "output_type": "execute_result"
    }
   ],
   "source": [
    "del d[\"France\"]\n",
    "\n",
    "d"
   ]
  },
  {
   "cell_type": "code",
   "execution_count": 74,
   "id": "b0d514ef-783c-441e-a2a1-4f30e4e3a741",
   "metadata": {},
   "outputs": [
    {
     "data": {
      "text/plain": [
       "['India', 'USA']"
      ]
     },
     "execution_count": 74,
     "metadata": {},
     "output_type": "execute_result"
    }
   ],
   "source": [
    "sorted(d)"
   ]
  },
  {
   "cell_type": "code",
   "execution_count": 78,
   "id": "0b30d3ad-b754-4de3-a115-9d367588534c",
   "metadata": {},
   "outputs": [
    {
     "data": {
      "text/plain": [
       "dict_keys(['India', 'USA'])"
      ]
     },
     "execution_count": 78,
     "metadata": {},
     "output_type": "execute_result"
    }
   ],
   "source": [
    "d.keys()"
   ]
  },
  {
   "cell_type": "code",
   "execution_count": null,
   "id": "f05295c0-edc3-4097-922b-8ca23cc77b51",
   "metadata": {},
   "outputs": [],
   "source": []
  }
 ],
 "metadata": {
  "kernelspec": {
   "display_name": "Python 3 (ipykernel)",
   "language": "python",
   "name": "python3"
  },
  "language_info": {
   "codemirror_mode": {
    "name": "ipython",
    "version": 3
   },
   "file_extension": ".py",
   "mimetype": "text/x-python",
   "name": "python",
   "nbconvert_exporter": "python",
   "pygments_lexer": "ipython3",
   "version": "3.12.4"
  }
 },
 "nbformat": 4,
 "nbformat_minor": 5
}
