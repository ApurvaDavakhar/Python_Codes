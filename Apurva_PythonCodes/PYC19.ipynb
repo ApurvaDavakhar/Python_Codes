{
 "cells": [
  {
   "cell_type": "code",
   "execution_count": 20,
   "id": "ca35f124-6003-415b-bc60-b7f9a62162d8",
   "metadata": {},
   "outputs": [],
   "source": [
    "# Declare class here:\n",
    "class ice_cream:\n",
    "    # Declare class variables:\n",
    "    r_small = 1.5\n",
    "    r_large = 2.5\n",
    "    pi = 3.14\n",
    "    \n",
    "    # Declare instance methods:\n",
    "    def flavour(self):\n",
    "        print (\"Enter your flavor\")"
   ]
  },
  {
   "cell_type": "code",
   "execution_count": 22,
   "id": "67b82066-a6c2-492c-9775-c27751a23be5",
   "metadata": {},
   "outputs": [
    {
     "name": "stdout",
     "output_type": "stream",
     "text": [
      "Enter your flavor\n"
     ]
    }
   ],
   "source": [
    "# Call the class:\n",
    "order = ice_cream()\n",
    "order.flavour()"
   ]
  },
  {
   "cell_type": "code",
   "execution_count": 48,
   "id": "d6c541f1-c22d-4490-babd-3cb58acb9c69",
   "metadata": {},
   "outputs": [],
   "source": [
    "class ice_cream:\n",
    "    r_small = 1.5\n",
    "    r_large = 2.5\n",
    "    pi = 3.14\n",
    "        \n",
    "    def flavour(self):\n",
    "        print(\"Enter your flavour\")\n",
    "        size = input(\"Would you like a small scoop or a large scoop (enter s/l)\")\n",
    "        cost = self.cost_ice_cream(size)\n",
    "        print (\"The cost of ice cream is \", cost)\n",
    "        \n",
    "    def cost_ice_cream(self, size):\n",
    "        if size==\"s\":\n",
    "            vol = 4/3 *(self.pi)* (self.r_small**3)\n",
    "            cost = vol * 0.5\n",
    "            return cost\n",
    "        elif size==\"l\":\n",
    "            vol = 4/3 *(self.pi)* (self.r_large**3)\n",
    "            cost = vol * 0.5\n",
    "            return cost\n",
    "        else:\n",
    "            print(\"Please enter a valid size\")"
   ]
  },
  {
   "cell_type": "code",
   "execution_count": 50,
   "id": "847f2a3b-af7b-4bf1-9c38-675f8f0b71a2",
   "metadata": {},
   "outputs": [
    {
     "name": "stdout",
     "output_type": "stream",
     "text": [
      "Enter your flavour\n"
     ]
    },
    {
     "name": "stdin",
     "output_type": "stream",
     "text": [
      "Would you like a small scoop or a large scoop (enter s/l) l\n"
     ]
    },
    {
     "name": "stdout",
     "output_type": "stream",
     "text": [
      "The cost of ice cream is  32.708333333333336\n"
     ]
    }
   ],
   "source": [
    "# Call the function:\n",
    "order = ice_cream()\n",
    "order.flavour()"
   ]
  },
  {
   "cell_type": "code",
   "execution_count": 46,
   "id": "9c15345f-55a4-45e0-83fd-c43a7c88f017",
   "metadata": {},
   "outputs": [
    {
     "name": "stdout",
     "output_type": "stream",
     "text": [
      "Available toppings are Hot_fudge, Sprinkles, Caramel, Oreos, Nuts\n"
     ]
    },
    {
     "name": "stdin",
     "output_type": "stream",
     "text": [
      "Enter any number of toppings of your choice separated by a comma:  2\n"
     ]
    },
    {
     "name": "stdout",
     "output_type": "stream",
     "text": [
      "The toppings you selected are :  ['2']\n"
     ]
    }
   ],
   "source": [
    "class toppings(ice_cream):\n",
    "    \n",
    "    def sel_toppings(self):\n",
    "        print (\"Available toppings are Hot_fudge, Sprinkles, Caramel, Oreos, Nuts\")\n",
    "        top = input (\"Enter any number of toppings of your choice separated by a comma: \")\n",
    "        top_list = top.split(\",\")\n",
    "        print (\"The toppings you selected are : \",top_list)\n",
    "\n",
    "sundae = toppings()\n",
    "sundae.sel_toppings()"
   ]
  },
  {
   "cell_type": "code",
   "execution_count": null,
   "id": "d087e7a4-0b59-4918-9470-3aa7f55bb794",
   "metadata": {},
   "outputs": [],
   "source": []
  }
 ],
 "metadata": {
  "kernelspec": {
   "display_name": "Python 3 (ipykernel)",
   "language": "python",
   "name": "python3"
  },
  "language_info": {
   "codemirror_mode": {
    "name": "ipython",
    "version": 3
   },
   "file_extension": ".py",
   "mimetype": "text/x-python",
   "name": "python",
   "nbconvert_exporter": "python",
   "pygments_lexer": "ipython3",
   "version": "3.12.4"
  }
 },
 "nbformat": 4,
 "nbformat_minor": 5
}
