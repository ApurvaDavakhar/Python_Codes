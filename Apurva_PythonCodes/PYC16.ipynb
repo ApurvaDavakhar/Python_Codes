{
 "cells": [
  {
   "cell_type": "code",
   "execution_count": 10,
   "id": "10ee875f-9e92-408c-9c87-14591f547c02",
   "metadata": {},
   "outputs": [
    {
     "name": "stdout",
     "output_type": "stream",
     "text": [
      "Hamster\n",
      "is a Python Wizard\n"
     ]
    }
   ],
   "source": [
    "#print in 2lines using multiline strings\n",
    "print(\"\"\"Hamster\n",
    "is a Python Wizard\"\"\")"
   ]
  },
  {
   "cell_type": "code",
   "execution_count": 12,
   "id": "28f8dddc-74d5-47e3-8240-59621c928779",
   "metadata": {},
   "outputs": [
    {
     "name": "stdout",
     "output_type": "stream",
     "text": [
      "Hamster\n",
      "is a Python Wizard\n"
     ]
    }
   ],
   "source": [
    "#pritn using \\n\n",
    "\n",
    "print(\"Hamster\\nis a Python Wizard\")"
   ]
  },
  {
   "cell_type": "code",
   "execution_count": 18,
   "id": "40a65f56-7cf9-44b5-8111-37bbc1764e4e",
   "metadata": {},
   "outputs": [
    {
     "name": "stdout",
     "output_type": "stream",
     "text": [
      "Hamster\n",
      "is a Python Wizard\n"
     ]
    }
   ],
   "source": [
    "#standard print\n",
    "print(\"Hamster\")\n",
    "print(\"is a Python Wizard\")"
   ]
  },
  {
   "cell_type": "code",
   "execution_count": 20,
   "id": "1490e2fd-6778-45c3-a338-88992310591f",
   "metadata": {},
   "outputs": [
    {
     "name": "stdout",
     "output_type": "stream",
     "text": [
      "Hamster is a Python Wizard\n"
     ]
    }
   ],
   "source": [
    "#print in same line\n",
    "\n",
    "print(\"Hamster is a Python Wizard\")"
   ]
  }
 ],
 "metadata": {
  "kernelspec": {
   "display_name": "Python 3 (ipykernel)",
   "language": "python",
   "name": "python3"
  },
  "language_info": {
   "codemirror_mode": {
    "name": "ipython",
    "version": 3
   },
   "file_extension": ".py",
   "mimetype": "text/x-python",
   "name": "python",
   "nbconvert_exporter": "python",
   "pygments_lexer": "ipython3",
   "version": "3.12.4"
  }
 },
 "nbformat": 4,
 "nbformat_minor": 5
}
