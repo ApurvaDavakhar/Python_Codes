{
 "cells": [
  {
   "cell_type": "code",
   "execution_count": 32,
   "id": "e1214e86-e169-42a8-bf2b-c496ee6cf8fb",
   "metadata": {},
   "outputs": [
    {
     "name": "stdout",
     "output_type": "stream",
     "text": [
      "Length =  10 \n",
      "Breadth =  5\n"
     ]
    }
   ],
   "source": [
    "#Defining a class\n",
    "class Rectangle :\n",
    "    def __init__(self):\n",
    "        self.length = 10\n",
    "        self.breadth = 5\n",
    "\n",
    "rect = Rectangle()\n",
    "print(\"Length = \",rect.length, \"\\nBreadth = \" ,rect.breadth)"
   ]
  },
  {
   "cell_type": "code",
   "execution_count": 40,
   "id": "d8d25fe1-2194-4250-bc65-c7c6ba94f741",
   "metadata": {},
   "outputs": [
    {
     "name": "stdout",
     "output_type": "stream",
     "text": [
      "Length =  10 \n",
      "Breadth =  5\n"
     ]
    }
   ],
   "source": [
    "#Parametrised Constructor\n",
    "\n",
    "class Rectangle :\n",
    "    def __init__(self, length, breadth):\n",
    "        self.length = length\n",
    "        self.breadth = breadth\n",
    "        \n",
    "rect = Rectangle(10, 5)\n",
    "print(\"Length = \",rect.length, \"\\nBreadth = \" ,rect.breadth)"
   ]
  },
  {
   "cell_type": "code",
   "execution_count": 113,
   "id": "a9429e1c-7d38-4829-9ffe-156a712a5acd",
   "metadata": {},
   "outputs": [
    {
     "name": "stdout",
     "output_type": "stream",
     "text": [
      "Hamster 32 M3\n"
     ]
    }
   ],
   "source": [
    "#Class Variable and Instance variables \n",
    "\n",
    "class Student :\n",
    "    teacher = 'Hamster' #class variable\n",
    "    room ='32' \n",
    "    age = '22'\n",
    "    fav_sub = 'M3'\n",
    "    def __init__(self, name, age):\n",
    "        self.name = name #instance_variable\n",
    "         \n",
    "id = Student('ID',15)\n",
    "print(id.teacher, id.room, id.fav_sub)"
   ]
  },
  {
   "cell_type": "code",
   "execution_count": 107,
   "id": "dfcd612b-e10d-44d9-a071-1133daae0797",
   "metadata": {},
   "outputs": [
    {
     "name": "stdout",
     "output_type": "stream",
     "text": [
      "Hamster 22\n"
     ]
    }
   ],
   "source": [
    "Student.teacher = 'Hamster'\n",
    "print(id.teacher, id.age)"
   ]
  },
  {
   "cell_type": "code",
   "execution_count": 115,
   "id": "398c6afd-dad0-4d75-a393-2161e7c551f3",
   "metadata": {},
   "outputs": [
    {
     "name": "stdout",
     "output_type": "stream",
     "text": [
      "15.700000000000001\n",
      "3.1436\n",
      "This is circle's static method\n"
     ]
    }
   ],
   "source": [
    "#Class Method and Static Method\n",
    "\n",
    "class Circle :\n",
    "    pi = 3.14\n",
    "    def __init__(self, radius):\n",
    "        self.radius = radius\n",
    "        \n",
    "    # Instance Method   \n",
    "    def calculate_area(self):\n",
    "        return Circle.pi * self.radius\n",
    "    \n",
    "    # Class Method - I cannot access - radius\n",
    "    @classmethod\n",
    "    def access_pi(cls):\n",
    "        pi = 3.1436\n",
    "        return pi\n",
    "        \n",
    "    # Static Method -  I cannot access - pi and radius\n",
    "    @staticmethod\n",
    "    def circle_static_method():\n",
    "        print(\"This is circle's static method\")\n",
    "        \n",
    "cir = Circle(5)\n",
    "\n",
    "# Calling methods \n",
    "\n",
    "print(cir.calculate_area())\n",
    "\n",
    "print(Circle.access_pi())\n",
    "\n",
    "Circle.circle_static_method()"
   ]
  },
  {
   "cell_type": "code",
   "execution_count": 163,
   "id": "55e23873-e8bf-4b62-8fd3-483c8ac24ff2",
   "metadata": {},
   "outputs": [
    {
     "name": "stdout",
     "output_type": "stream",
     "text": [
      "Hamster 2\n"
     ]
    }
   ],
   "source": [
    "# A Python program to demonstrate inheritance\n",
    "class Person(object):\n",
    "  \n",
    "  # Constructor\n",
    "  def __init__(self, name, id):\n",
    "    self.name = name\n",
    "    self.id = id\n",
    "\n",
    "  # To check if this person is an employee\n",
    "  def Display(self):\n",
    "    print(self.name, self.id)\n",
    "\n",
    "emp = Person(\"Hamster\", 2) # An Object of Person\n",
    "emp.Display()"
   ]
  },
  {
   "cell_type": "code",
   "execution_count": null,
   "id": "e50cfdbb-9d39-48f9-a0c6-b1bd62cd9a70",
   "metadata": {},
   "outputs": [],
   "source": [
    "#Abstraction\n",
    "\n",
    "#Hiding the implementation details of a class and only showing the essential features to the user.\n",
    "\n",
    "#Encapsulation\n",
    "#Wrapping data and functions into a single unit (object)."
   ]
  },
  {
   "cell_type": "code",
   "execution_count": 167,
   "id": "15857243-2e47-41ca-83ce-4f63a32d1dee",
   "metadata": {},
   "outputs": [
    {
     "name": "stdout",
     "output_type": "stream",
     "text": [
      "SAM 3\n",
      "Python Wizard\n"
     ]
    }
   ],
   "source": [
    "class Emp(Person):\n",
    "  \n",
    "  def Print(self):\n",
    "    print(\"Python Wizard\")\n",
    "    \n",
    "Emp_details = Emp(\"SAM\", 3)\n",
    "\n",
    "# calling parent class function\n",
    "Emp_details.Display()\n",
    "\n",
    "# Calling child class function\n",
    "Emp_details.Print()"
   ]
  },
  {
   "cell_type": "code",
   "execution_count": 181,
   "id": "abd1f5d3-4f5f-496e-80ef-25b4850f4383",
   "metadata": {},
   "outputs": [
    {
     "name": "stdout",
     "output_type": "stream",
     "text": [
      "this is B\n"
     ]
    }
   ],
   "source": [
    "class A:\n",
    "    def me(self):\n",
    "        print(\"This is A\")\n",
    "        \n",
    "        def idet(self):\n",
    "            self.me()\n",
    "\n",
    "class B(A):\n",
    "    def me(self):\n",
    "        print(\"this is B\")\n",
    "\n",
    "\n",
    "a = A()\n",
    "b = B()\n",
    "b.me()\n"
   ]
  },
  {
   "cell_type": "code",
   "execution_count": null,
   "id": "58262f06-1ab5-4088-984d-95767decb9d1",
   "metadata": {},
   "outputs": [],
   "source": []
  }
 ],
 "metadata": {
  "kernelspec": {
   "display_name": "Python 3 (ipykernel)",
   "language": "python",
   "name": "python3"
  },
  "language_info": {
   "codemirror_mode": {
    "name": "ipython",
    "version": 3
   },
   "file_extension": ".py",
   "mimetype": "text/x-python",
   "name": "python",
   "nbconvert_exporter": "python",
   "pygments_lexer": "ipython3",
   "version": "3.12.4"
  }
 },
 "nbformat": 4,
 "nbformat_minor": 5
}
