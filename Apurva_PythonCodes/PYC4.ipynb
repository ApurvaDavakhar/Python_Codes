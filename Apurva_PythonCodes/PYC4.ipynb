{
 "cells": [
  {
   "cell_type": "code",
   "execution_count": 1,
   "id": "677cedf9-80f9-45d8-82ab-be7a54369ce7",
   "metadata": {},
   "outputs": [
    {
     "name": "stdin",
     "output_type": "stream",
     "text": [
      "Enter your name :  Hamster02\n"
     ]
    },
    {
     "name": "stdout",
     "output_type": "stream",
     "text": [
      "Welcome Hamster02\n"
     ]
    }
   ],
   "source": [
    "#Let's try taking adding a string to the answer received\n",
    "name = input(\"Enter your name : \")\n",
    "print(\"Welcome\", name)"
   ]
  },
  {
   "cell_type": "code",
   "execution_count": 2,
   "id": "70349ad5-e7c4-4ffb-8944-f9bb4d593b9f",
   "metadata": {},
   "outputs": [
    {
     "name": "stdin",
     "output_type": "stream",
     "text": [
      "Enter your age :  23\n"
     ]
    },
    {
     "name": "stdout",
     "output_type": "stream",
     "text": [
      "You are  232323232323232323232323  months old\n"
     ]
    }
   ],
   "source": [
    "age = input(\"Enter your age : \")\n",
    "print(\"You are \" , age*12 , \" months old\")"
   ]
  },
  {
   "cell_type": "code",
   "execution_count": 8,
   "id": "6084e315-d9b0-4836-8744-ad926aa2c3eb",
   "metadata": {},
   "outputs": [
    {
     "name": "stdin",
     "output_type": "stream",
     "text": [
      "enter your age  22\n"
     ]
    },
    {
     "name": "stdout",
     "output_type": "stream",
     "text": [
      "You are  264  months old\n"
     ]
    }
   ],
   "source": [
    "age = input(\"enter your age \")\n",
    "age = int(age)\n",
    "print(\"You are \" , age*12 , \" months old\")\n",
    "#Changing the the of variables type is called typecasting"
   ]
  },
  {
   "cell_type": "code",
   "execution_count": null,
   "id": "2054eeda-e9ea-4da2-b59b-136f590165ed",
   "metadata": {},
   "outputs": [],
   "source": []
  }
 ],
 "metadata": {
  "kernelspec": {
   "display_name": "Python 3 (ipykernel)",
   "language": "python",
   "name": "python3"
  },
  "language_info": {
   "codemirror_mode": {
    "name": "ipython",
    "version": 3
   },
   "file_extension": ".py",
   "mimetype": "text/x-python",
   "name": "python",
   "nbconvert_exporter": "python",
   "pygments_lexer": "ipython3",
   "version": "3.12.4"
  }
 },
 "nbformat": 4,
 "nbformat_minor": 5
}
